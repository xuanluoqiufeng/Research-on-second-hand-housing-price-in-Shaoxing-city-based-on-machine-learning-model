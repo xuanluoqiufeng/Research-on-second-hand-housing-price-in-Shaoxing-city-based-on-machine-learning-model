{
 "cells": [
  {
   "cell_type": "code",
   "execution_count": 2,
   "metadata": {
    "scrolled": true
   },
   "outputs": [
    {
     "data": {
      "text/html": [
       "<div>\n",
       "<style scoped>\n",
       "    .dataframe tbody tr th:only-of-type {\n",
       "        vertical-align: middle;\n",
       "    }\n",
       "\n",
       "    .dataframe tbody tr th {\n",
       "        vertical-align: top;\n",
       "    }\n",
       "\n",
       "    .dataframe thead th {\n",
       "        text-align: right;\n",
       "    }\n",
       "</style>\n",
       "<table border=\"1\" class=\"dataframe\">\n",
       "  <thead>\n",
       "    <tr style=\"text-align: right;\">\n",
       "      <th></th>\n",
       "      <th>address</th>\n",
       "      <th>price</th>\n",
       "      <th>unit-price</th>\n",
       "      <th>Number of bedrooms</th>\n",
       "      <th>Number of living rooms</th>\n",
       "      <th>area</th>\n",
       "      <th>floor</th>\n",
       "      <th>decoration_label</th>\n",
       "      <th>toward_label</th>\n",
       "    </tr>\n",
       "  </thead>\n",
       "  <tbody>\n",
       "    <tr>\n",
       "      <th>0</th>\n",
       "      <td>1</td>\n",
       "      <td>189.0</td>\n",
       "      <td>13217</td>\n",
       "      <td>4</td>\n",
       "      <td>2</td>\n",
       "      <td>143.00</td>\n",
       "      <td>2</td>\n",
       "      <td>0</td>\n",
       "      <td>1</td>\n",
       "    </tr>\n",
       "    <tr>\n",
       "      <th>1</th>\n",
       "      <td>1</td>\n",
       "      <td>62.8</td>\n",
       "      <td>7057</td>\n",
       "      <td>3</td>\n",
       "      <td>2</td>\n",
       "      <td>89.00</td>\n",
       "      <td>0</td>\n",
       "      <td>0</td>\n",
       "      <td>1</td>\n",
       "    </tr>\n",
       "    <tr>\n",
       "      <th>2</th>\n",
       "      <td>1</td>\n",
       "      <td>78.0</td>\n",
       "      <td>8827</td>\n",
       "      <td>3</td>\n",
       "      <td>2</td>\n",
       "      <td>88.37</td>\n",
       "      <td>2</td>\n",
       "      <td>0</td>\n",
       "      <td>1</td>\n",
       "    </tr>\n",
       "    <tr>\n",
       "      <th>3</th>\n",
       "      <td>1</td>\n",
       "      <td>150.0</td>\n",
       "      <td>12000</td>\n",
       "      <td>4</td>\n",
       "      <td>2</td>\n",
       "      <td>125.00</td>\n",
       "      <td>0</td>\n",
       "      <td>0</td>\n",
       "      <td>1</td>\n",
       "    </tr>\n",
       "    <tr>\n",
       "      <th>4</th>\n",
       "      <td>1</td>\n",
       "      <td>75.0</td>\n",
       "      <td>6411</td>\n",
       "      <td>3</td>\n",
       "      <td>2</td>\n",
       "      <td>117.00</td>\n",
       "      <td>1</td>\n",
       "      <td>0</td>\n",
       "      <td>0</td>\n",
       "    </tr>\n",
       "  </tbody>\n",
       "</table>\n",
       "</div>"
      ],
      "text/plain": [
       "   address  price  unit-price  Number of bedrooms  Number of living rooms  \\\n",
       "0        1  189.0       13217                   4                       2   \n",
       "1        1   62.8        7057                   3                       2   \n",
       "2        1   78.0        8827                   3                       2   \n",
       "3        1  150.0       12000                   4                       2   \n",
       "4        1   75.0        6411                   3                       2   \n",
       "\n",
       "     area  floor  decoration_label  toward_label  \n",
       "0  143.00      2                 0             1  \n",
       "1   89.00      0                 0             1  \n",
       "2   88.37      2                 0             1  \n",
       "3  125.00      0                 0             1  \n",
       "4  117.00      1                 0             0  "
      ]
     },
     "execution_count": 2,
     "metadata": {},
     "output_type": "execute_result"
    }
   ],
   "source": [
    "import pandas as pd\n",
    "\n",
    "# Load the CSV file into a DataFrame\n",
    "data_df = pd.read_csv(\"数据D.csv\")\n",
    "\n",
    "# Display the first few rows of the DataFrame to get an overview of the data\n",
    "data_df.head()\n"
   ]
  },
  {
   "cell_type": "code",
   "execution_count": 3,
   "metadata": {
    "scrolled": true
   },
   "outputs": [
    {
     "data": {
      "text/html": [
       "<div>\n",
       "<style scoped>\n",
       "    .dataframe tbody tr th:only-of-type {\n",
       "        vertical-align: middle;\n",
       "    }\n",
       "\n",
       "    .dataframe tbody tr th {\n",
       "        vertical-align: top;\n",
       "    }\n",
       "\n",
       "    .dataframe thead th {\n",
       "        text-align: right;\n",
       "    }\n",
       "</style>\n",
       "<table border=\"1\" class=\"dataframe\">\n",
       "  <thead>\n",
       "    <tr style=\"text-align: right;\">\n",
       "      <th></th>\n",
       "      <th>address</th>\n",
       "      <th>price</th>\n",
       "      <th>unit-price</th>\n",
       "      <th>Number of bedrooms</th>\n",
       "      <th>Number of living rooms</th>\n",
       "      <th>area</th>\n",
       "      <th>floor</th>\n",
       "      <th>decoration_label</th>\n",
       "      <th>toward_label</th>\n",
       "    </tr>\n",
       "  </thead>\n",
       "  <tbody>\n",
       "    <tr>\n",
       "      <th>count</th>\n",
       "      <td>54742.000000</td>\n",
       "      <td>54742.000000</td>\n",
       "      <td>54742.000000</td>\n",
       "      <td>54742.000000</td>\n",
       "      <td>54742.000000</td>\n",
       "      <td>54742.000000</td>\n",
       "      <td>54742.000000</td>\n",
       "      <td>54742.000000</td>\n",
       "      <td>54742.000000</td>\n",
       "    </tr>\n",
       "    <tr>\n",
       "      <th>mean</th>\n",
       "      <td>2.318987</td>\n",
       "      <td>195.269870</td>\n",
       "      <td>16947.485715</td>\n",
       "      <td>2.951938</td>\n",
       "      <td>1.754594</td>\n",
       "      <td>113.266155</td>\n",
       "      <td>0.965273</td>\n",
       "      <td>0.300153</td>\n",
       "      <td>0.981879</td>\n",
       "    </tr>\n",
       "    <tr>\n",
       "      <th>std</th>\n",
       "      <td>1.482917</td>\n",
       "      <td>148.996267</td>\n",
       "      <td>6115.707498</td>\n",
       "      <td>0.764125</td>\n",
       "      <td>0.459881</td>\n",
       "      <td>46.374111</td>\n",
       "      <td>0.839997</td>\n",
       "      <td>0.458329</td>\n",
       "      <td>0.133392</td>\n",
       "    </tr>\n",
       "    <tr>\n",
       "      <th>min</th>\n",
       "      <td>0.000000</td>\n",
       "      <td>18.000000</td>\n",
       "      <td>2865.000000</td>\n",
       "      <td>1.000000</td>\n",
       "      <td>0.000000</td>\n",
       "      <td>13.000000</td>\n",
       "      <td>0.000000</td>\n",
       "      <td>0.000000</td>\n",
       "      <td>0.000000</td>\n",
       "    </tr>\n",
       "    <tr>\n",
       "      <th>25%</th>\n",
       "      <td>2.000000</td>\n",
       "      <td>132.000000</td>\n",
       "      <td>13136.000000</td>\n",
       "      <td>3.000000</td>\n",
       "      <td>1.000000</td>\n",
       "      <td>89.000000</td>\n",
       "      <td>0.000000</td>\n",
       "      <td>0.000000</td>\n",
       "      <td>1.000000</td>\n",
       "    </tr>\n",
       "    <tr>\n",
       "      <th>50%</th>\n",
       "      <td>2.000000</td>\n",
       "      <td>170.000000</td>\n",
       "      <td>16289.000000</td>\n",
       "      <td>3.000000</td>\n",
       "      <td>2.000000</td>\n",
       "      <td>107.000000</td>\n",
       "      <td>1.000000</td>\n",
       "      <td>0.000000</td>\n",
       "      <td>1.000000</td>\n",
       "    </tr>\n",
       "    <tr>\n",
       "      <th>75%</th>\n",
       "      <td>4.000000</td>\n",
       "      <td>218.000000</td>\n",
       "      <td>19910.000000</td>\n",
       "      <td>3.000000</td>\n",
       "      <td>2.000000</td>\n",
       "      <td>128.990000</td>\n",
       "      <td>2.000000</td>\n",
       "      <td>1.000000</td>\n",
       "      <td>1.000000</td>\n",
       "    </tr>\n",
       "    <tr>\n",
       "      <th>max</th>\n",
       "      <td>4.000000</td>\n",
       "      <td>5800.000000</td>\n",
       "      <td>99903.000000</td>\n",
       "      <td>12.000000</td>\n",
       "      <td>5.000000</td>\n",
       "      <td>2271.000000</td>\n",
       "      <td>2.000000</td>\n",
       "      <td>1.000000</td>\n",
       "      <td>1.000000</td>\n",
       "    </tr>\n",
       "  </tbody>\n",
       "</table>\n",
       "</div>"
      ],
      "text/plain": [
       "            address         price    unit-price  Number of bedrooms  \\\n",
       "count  54742.000000  54742.000000  54742.000000        54742.000000   \n",
       "mean       2.318987    195.269870  16947.485715            2.951938   \n",
       "std        1.482917    148.996267   6115.707498            0.764125   \n",
       "min        0.000000     18.000000   2865.000000            1.000000   \n",
       "25%        2.000000    132.000000  13136.000000            3.000000   \n",
       "50%        2.000000    170.000000  16289.000000            3.000000   \n",
       "75%        4.000000    218.000000  19910.000000            3.000000   \n",
       "max        4.000000   5800.000000  99903.000000           12.000000   \n",
       "\n",
       "       Number of living rooms          area         floor  decoration_label  \\\n",
       "count            54742.000000  54742.000000  54742.000000      54742.000000   \n",
       "mean                 1.754594    113.266155      0.965273          0.300153   \n",
       "std                  0.459881     46.374111      0.839997          0.458329   \n",
       "min                  0.000000     13.000000      0.000000          0.000000   \n",
       "25%                  1.000000     89.000000      0.000000          0.000000   \n",
       "50%                  2.000000    107.000000      1.000000          0.000000   \n",
       "75%                  2.000000    128.990000      2.000000          1.000000   \n",
       "max                  5.000000   2271.000000      2.000000          1.000000   \n",
       "\n",
       "       toward_label  \n",
       "count  54742.000000  \n",
       "mean       0.981879  \n",
       "std        0.133392  \n",
       "min        0.000000  \n",
       "25%        1.000000  \n",
       "50%        1.000000  \n",
       "75%        1.000000  \n",
       "max        1.000000  "
      ]
     },
     "execution_count": 3,
     "metadata": {},
     "output_type": "execute_result"
    }
   ],
   "source": [
    "# Checking the data types of each column\n",
    "data_types = data_df.dtypes\n",
    "\n",
    "# Checking statistical summary of the numeric columns\n",
    "numeric_columns = data_df.select_dtypes(include=['float64', 'int64']).columns\n",
    "data_df[numeric_columns].describe()\n"
   ]
  },
  {
   "cell_type": "markdown",
   "metadata": {},
   "source": [
    "线性归一化"
   ]
  },
  {
   "cell_type": "code",
   "execution_count": 4,
   "metadata": {},
   "outputs": [
    {
     "data": {
      "text/html": [
       "<div>\n",
       "<style scoped>\n",
       "    .dataframe tbody tr th:only-of-type {\n",
       "        vertical-align: middle;\n",
       "    }\n",
       "\n",
       "    .dataframe tbody tr th {\n",
       "        vertical-align: top;\n",
       "    }\n",
       "\n",
       "    .dataframe thead th {\n",
       "        text-align: right;\n",
       "    }\n",
       "</style>\n",
       "<table border=\"1\" class=\"dataframe\">\n",
       "  <thead>\n",
       "    <tr style=\"text-align: right;\">\n",
       "      <th></th>\n",
       "      <th>address</th>\n",
       "      <th>price</th>\n",
       "      <th>unit-price</th>\n",
       "      <th>Number of bedrooms</th>\n",
       "      <th>Number of living rooms</th>\n",
       "      <th>area</th>\n",
       "      <th>floor</th>\n",
       "      <th>decoration_label</th>\n",
       "      <th>toward_label</th>\n",
       "    </tr>\n",
       "  </thead>\n",
       "  <tbody>\n",
       "    <tr>\n",
       "      <th>0</th>\n",
       "      <td>0.25</td>\n",
       "      <td>0.029575</td>\n",
       "      <td>0.106680</td>\n",
       "      <td>0.272727</td>\n",
       "      <td>0.4</td>\n",
       "      <td>0.057573</td>\n",
       "      <td>1.0</td>\n",
       "      <td>0.0</td>\n",
       "      <td>1.0</td>\n",
       "    </tr>\n",
       "    <tr>\n",
       "      <th>1</th>\n",
       "      <td>0.25</td>\n",
       "      <td>0.007748</td>\n",
       "      <td>0.043200</td>\n",
       "      <td>0.181818</td>\n",
       "      <td>0.4</td>\n",
       "      <td>0.033658</td>\n",
       "      <td>0.0</td>\n",
       "      <td>0.0</td>\n",
       "      <td>1.0</td>\n",
       "    </tr>\n",
       "    <tr>\n",
       "      <th>2</th>\n",
       "      <td>0.25</td>\n",
       "      <td>0.010377</td>\n",
       "      <td>0.061440</td>\n",
       "      <td>0.181818</td>\n",
       "      <td>0.4</td>\n",
       "      <td>0.033379</td>\n",
       "      <td>1.0</td>\n",
       "      <td>0.0</td>\n",
       "      <td>1.0</td>\n",
       "    </tr>\n",
       "    <tr>\n",
       "      <th>3</th>\n",
       "      <td>0.25</td>\n",
       "      <td>0.022829</td>\n",
       "      <td>0.094138</td>\n",
       "      <td>0.272727</td>\n",
       "      <td>0.4</td>\n",
       "      <td>0.049601</td>\n",
       "      <td>0.0</td>\n",
       "      <td>0.0</td>\n",
       "      <td>1.0</td>\n",
       "    </tr>\n",
       "    <tr>\n",
       "      <th>4</th>\n",
       "      <td>0.25</td>\n",
       "      <td>0.009858</td>\n",
       "      <td>0.036542</td>\n",
       "      <td>0.181818</td>\n",
       "      <td>0.4</td>\n",
       "      <td>0.046058</td>\n",
       "      <td>0.5</td>\n",
       "      <td>0.0</td>\n",
       "      <td>0.0</td>\n",
       "    </tr>\n",
       "  </tbody>\n",
       "</table>\n",
       "</div>"
      ],
      "text/plain": [
       "   address     price  unit-price  Number of bedrooms  Number of living rooms  \\\n",
       "0     0.25  0.029575    0.106680            0.272727                     0.4   \n",
       "1     0.25  0.007748    0.043200            0.181818                     0.4   \n",
       "2     0.25  0.010377    0.061440            0.181818                     0.4   \n",
       "3     0.25  0.022829    0.094138            0.272727                     0.4   \n",
       "4     0.25  0.009858    0.036542            0.181818                     0.4   \n",
       "\n",
       "       area  floor  decoration_label  toward_label  \n",
       "0  0.057573    1.0               0.0           1.0  \n",
       "1  0.033658    0.0               0.0           1.0  \n",
       "2  0.033379    1.0               0.0           1.0  \n",
       "3  0.049601    0.0               0.0           1.0  \n",
       "4  0.046058    0.5               0.0           0.0  "
      ]
     },
     "execution_count": 4,
     "metadata": {},
     "output_type": "execute_result"
    }
   ],
   "source": [
    "# 1. Handle missing values by replacing them with the minimum value of the column\n",
    "data_df.fillna(data_df.min(), inplace=True)\n",
    "\n",
    "# 2. Perform linear normalization\n",
    "min_values = data_df.min()\n",
    "max_values = data_df.max()\n",
    "data_normalized = (data_df - min_values) / (max_values - min_values)\n",
    "\n",
    "data_normalized.head()\n"
   ]
  },
  {
   "cell_type": "markdown",
   "metadata": {},
   "source": [
    "8：2测试集和训练集"
   ]
  },
  {
   "cell_type": "code",
   "execution_count": 5,
   "metadata": {},
   "outputs": [
    {
     "data": {
      "text/plain": [
       "((43793, 7), (10949, 7))"
      ]
     },
     "execution_count": 5,
     "metadata": {},
     "output_type": "execute_result"
    }
   ],
   "source": [
    "from sklearn.model_selection import train_test_split\n",
    "\n",
    "# Split the data into training and testing sets\n",
    "X = data_normalized.drop(['address', 'price'], axis=1)  # Features\n",
    "y = data_normalized['price']  # Target variable\n",
    "\n",
    "X_train, X_test, y_train, y_test = train_test_split(X, y, test_size=0.2, random_state=42)\n",
    "\n",
    "X_train.shape, X_test.shape\n"
   ]
  },
  {
   "cell_type": "markdown",
   "metadata": {},
   "source": [
    "数据已经被按照 8：2 的比例分为训练集和测试集。其中，训练集有 43,793 个样本，测试集有 10,949 个样本。"
   ]
  },
  {
   "cell_type": "code",
   "execution_count": 6,
   "metadata": {},
   "outputs": [
    {
     "data": {
      "text/plain": [
       "(0.001832610314355632, -1.6041075096007846)"
      ]
     },
     "execution_count": 6,
     "metadata": {},
     "output_type": "execute_result"
    }
   ],
   "source": [
    "from sklearn.svm import SVR\n",
    "\n",
    "# Initialize and train the SVR model\n",
    "svr = SVR(kernel='rbf', C=1.0, epsilon=0.1, gamma='scale')\n",
    "svr.fit(X_train, y_train)\n",
    "\n",
    "# Predict on the test set\n",
    "y_pred = svr.predict(X_test)\n",
    "\n",
    "# Evaluate the model\n",
    "from sklearn.metrics import mean_squared_error, r2_score\n",
    "\n",
    "mse = mean_squared_error(y_test, y_pred)\n",
    "r2 = r2_score(y_test, y_pred)\n",
    "\n",
    "mse, r2\n"
   ]
  },
  {
   "cell_type": "markdown",
   "metadata": {},
   "source": [
    "模型在测试集上的表现如下：\n",
    "均方误差（MSE）：0.001832610314355632\n",
    "R^2R \n",
    "2\n",
    "  分数：-1.6041075096007846\n",
    "R^2R \n",
    "2\n",
    "  分数是一个负数，这意味着模型在拟合数据时遇到了一些问题。通常，R^2R \n",
    "2\n",
    "  分数越接近1，模型的拟合效果越好。\n",
    "为了提高模型的拟合效果，我们可以尝试调整核函数的超参数，如C和ε。此外，我们还可以尝试使用其他类型的核函数或进行更深入的特征工程。"
   ]
  },
  {
   "cell_type": "code",
   "execution_count": 7,
   "metadata": {
    "scrolled": false
   },
   "outputs": [
    {
     "data": {
      "image/png": "[encoded data removed]",
      "text/plain": [
       "<Figure size 1000x600 with 1 Axes>"
      ]
     },
     "metadata": {},
     "output_type": "display_data"
    }
   ],
   "source": [
    "#查看参数C的取值范围，用折线图表示并结合五折交叉验证\n",
    "from sklearn.model_selection import cross_val_score\n",
    "import matplotlib.pyplot as plt\n",
    "\n",
    "# Define the range of C values to test\n",
    "C_values = [0.001, 0.01, 0.1, 1, 10, 100]\n",
    "\n",
    "# Perform 5-fold cross-validation for each C value\n",
    "cv_scores = []\n",
    "for C in C_values:\n",
    "    svr = SVR(kernel='rbf', C=C, epsilon=0.1, gamma='scale')\n",
    "    scores = cross_val_score(svr, X_train, y_train, cv=5, scoring='neg_mean_squared_error')\n",
    "    cv_scores.append(-1 * scores.mean())  # Negate the scores to get the MSE\n",
    "\n",
    "# Plot the CV scores\n",
    "plt.figure(figsize=(10, 6))\n",
    "plt.plot(C_values, cv_scores, marker='o', linestyle='-', label='5-fold CV')\n",
    "plt.xlabel('C Value')\n",
    "plt.ylabel('Mean Squared Error')\n",
    "plt.title('5-fold Cross Validation Scores for different C values')\n",
    "plt.grid(True)\n",
    "plt.legend()\n",
    "plt.show()\n"
   ]
  },
  {
   "cell_type": "markdown",
   "metadata": {},
   "source": [
    "从上图中，我们可以观察到不同 CC 值下5折交叉验证的平均均方误差（MSE）。\n",
    "为了确定最佳的 CC 值，我们需要找到那个使MSE最小的 CC 值。从图中可以看出，当 CC 值在0.1到1之间时，MSE最小。这意味着在这个范围内，SVR模型可能会有最好的拟合效果。\n",
    "通常，我们选择 CC 值时会考虑以下几点：\n",
    "CC 值越小，正则化影响越大，模型越不容易过拟合，但可能会欠拟合。\n",
    "CC 值越大，正则化影响越小，模型越容易过拟合。"
   ]
  },
  {
   "cell_type": "code",
   "execution_count": 10,
   "metadata": {},
   "outputs": [
    {
     "data": {
      "text/plain": [
       "(1.081292580587424, -0.04050595863321904)"
      ]
     },
     "execution_count": 10,
     "metadata": {},
     "output_type": "execute_result"
    }
   ],
   "source": [
    "from sklearn.metrics import mean_absolute_percentage_error\n",
    "\n",
    "# Calculate MAPE and R-squared for the default model\n",
    "mape_default = mean_absolute_percentage_error(y_test, y_pred_default)\n",
    "r2_default = r2_score(y_test, y_pred_default)\n",
    "\n",
    "mape_default, r2_default\n"
   ]
  },
  {
   "cell_type": "code",
   "execution_count": 11,
   "metadata": {},
   "outputs": [
    {
     "data": {
      "text/plain": [
       "(1.081292580587424, -0.04050595863321904)"
      ]
     },
     "execution_count": 11,
     "metadata": {},
     "output_type": "execute_result"
    }
   ],
   "source": [
    "# Re-fit the SVR model with default hyperparameters\n",
    "svr.fit(X_train, y_train)\n",
    "\n",
    "# Predict using the default SVR model\n",
    "y_pred_default = svr.predict(X_test)\n",
    "\n",
    "# Calculate MAPE and R-squared for the default model\n",
    "mape_default = mean_absolute_percentage_error(y_test, y_pred_default)\n",
    "r2_default = r2_score(y_test, y_pred_default)\n",
    "\n",
    "mape_default, r2_default\n"
   ]
  },
  {
   "cell_type": "markdown",
   "metadata": {},
   "source": [
    "使用默认的超参数，我们得到了以下的性能指标：\n",
    "平均绝对百分比误差（MAPE）：1.081292580587424\n",
    "R^2R \n",
    "2\n",
    "  分数：-0.04050595863321926\n",
    "接下来，我将使用调整后的超参数（即 C = 0.1C=0.1）重新训练SVR模型，并计算其MAPE和 R^2R \n",
    "2\n",
    "  分数。"
   ]
  },
  {
   "cell_type": "code",
   "execution_count": 12,
   "metadata": {},
   "outputs": [
    {
     "data": {
      "text/plain": [
       "(3.0051870678403847, -5.02286961401583)"
      ]
     },
     "execution_count": 12,
     "metadata": {},
     "output_type": "execute_result"
    }
   ],
   "source": [
    "# Re-fit the SVR model with adjusted hyperparameters\n",
    "svr_adjusted = SVR(kernel='rbf', C=0.1, epsilon=0.1, gamma='scale')\n",
    "svr_adjusted.fit(X_train, y_train)\n",
    "\n",
    "# Predict using the adjusted SVR model\n",
    "y_pred_adjusted = svr_adjusted.predict(X_test)\n",
    "\n",
    "# Calculate MAPE and R-squared for the adjusted model\n",
    "mape_adjusted = mean_absolute_percentage_error(y_test, y_pred_adjusted)\n",
    "r2_adjusted = r2_score(y_test, y_pred_adjusted)\n",
    "\n",
    "mape_adjusted, r2_adjusted\n",
    "\n"
   ]
  },
  {
   "cell_type": "markdown",
   "metadata": {},
   "source": [
    "使用调整后的超参数，我们得到了以下的性能指标：\n",
    "平均绝对百分比误差（MAPE）：3.005187067840385\n",
    "R^2R \n",
    "2\n",
    "  分数：-5.02286961401583\n",
    "从上述结果中，我们可以观察到："
   ]
  },
  {
   "cell_type": "markdown",
   "metadata": {},
   "source": [
    "使用调整后的超参数，我们得到了以下的性能指标：\n",
    "平均绝对百分比误差（MAPE）：3.005187067840385\n",
    "R^2R \n",
    "2\n",
    "  分数：-5.02286961401583\n",
    "从上述结果中，我们可以观察到：\n",
    "调整超参数后，模型的MAPE略有增加，表示模型对预测值的精确度略微降低。\n",
    "R^2R \n",
    "2\n",
    "  分数变为负数，这意味着模型在拟合数据时遇到了一些问题，并且拟合效果较差。\n",
    "通常，我们期望 R^2R \n",
    "2\n",
    "  分数尽可能接近1，这表示模型解释的数据方差越多。在这种情况下，尽管我们尝试调整超参数以提高模型的拟合效果，但结果并不如人意。"
   ]
  },
  {
   "cell_type": "code",
   "execution_count": 18,
   "metadata": {},
   "outputs": [
    {
     "ename": "NameError",
     "evalue": "name 'data' is not defined",
     "output_type": "error",
     "traceback": [
      "\u001b[1;31m---------------------------------------------------------------------------\u001b[0m",
      "\u001b[1;31mNameError\u001b[0m                                 Traceback (most recent call last)",
      "\u001b[1;32m<ipython-input-18-45d946e41feb>\u001b[0m in \u001b[0;36m<module>\u001b[1;34m()\u001b[0m\n\u001b[0;32m      1\u001b[0m \u001b[1;31m# Re-apply Min-Max Scaling to the data\u001b[0m\u001b[1;33m\u001b[0m\u001b[1;33m\u001b[0m\u001b[0m\n\u001b[1;32m----> 2\u001b[1;33m \u001b[0mdata_scaled\u001b[0m \u001b[1;33m=\u001b[0m \u001b[0mdata\u001b[0m\u001b[1;33m.\u001b[0m\u001b[0mcopy\u001b[0m\u001b[1;33m(\u001b[0m\u001b[1;33m)\u001b[0m\u001b[1;33m\u001b[0m\u001b[0m\n\u001b[0m\u001b[0;32m      3\u001b[0m \u001b[1;33m\u001b[0m\u001b[0m\n\u001b[0;32m      4\u001b[0m \u001b[1;31m# Define the feature columns for scaling\u001b[0m\u001b[1;33m\u001b[0m\u001b[1;33m\u001b[0m\u001b[0m\n\u001b[0;32m      5\u001b[0m \u001b[0mfeature_columns\u001b[0m \u001b[1;33m=\u001b[0m \u001b[1;33m[\u001b[0m\u001b[1;34m'address'\u001b[0m\u001b[1;33m,\u001b[0m \u001b[1;34m'price'\u001b[0m\u001b[1;33m,\u001b[0m \u001b[1;34m'unit-price'\u001b[0m\u001b[1;33m,\u001b[0m \u001b[1;34m'Number of bedrooms'\u001b[0m\u001b[1;33m,\u001b[0m \u001b[1;34m'Number of living rooms'\u001b[0m\u001b[1;33m,\u001b[0m \u001b[1;34m'area'\u001b[0m\u001b[1;33m,\u001b[0m \u001b[1;34m'floor'\u001b[0m\u001b[1;33m,\u001b[0m \u001b[1;34m'decoration_label'\u001b[0m\u001b[1;33m,\u001b[0m \u001b[1;34m'toward_label'\u001b[0m\u001b[1;33m]\u001b[0m\u001b[1;33m\u001b[0m\u001b[0m\n",
      "\u001b[1;31mNameError\u001b[0m: name 'data' is not defined"
     ]
    }
   ],
   "source": [
    "# Re-apply Min-Max Scaling to the data\n",
    "data_scaled = data.copy()\n",
    "\n",
    "# Define the feature columns for scaling\n",
    "feature_columns = ['address', 'price', 'unit-price', 'Number of bedrooms', 'Number of living rooms', 'area', 'floor', 'decoration_label', 'toward_label']\n",
    "\n",
    "# Apply Min-Max scaling to the feature columns\n",
    "data_scaled[feature_columns] = data_scaled[feature_columns].apply(lambda x: (x - x.min()) / (x.max() - x.min()))\n",
    "\n",
    "# Display the first few rows of the scaled data\n",
    "data_scaled.head()\n"
   ]
  },
  {
   "cell_type": "code",
   "execution_count": 12,
   "metadata": {},
   "outputs": [
    {
     "ename": "NameError",
     "evalue": "name 'data_scaled' is not defined",
     "output_type": "error",
     "traceback": [
      "\u001b[1;31m---------------------------------------------------------------------------\u001b[0m",
      "\u001b[1;31mNameError\u001b[0m                                 Traceback (most recent call last)",
      "\u001b[1;32m<ipython-input-12-a4e24e3c0e50>\u001b[0m in \u001b[0;36m<module>\u001b[1;34m()\u001b[0m\n\u001b[0;32m     15\u001b[0m \u001b[1;31m# Perform grid search with 5-fold cross-validation\u001b[0m\u001b[1;33m\u001b[0m\u001b[1;33m\u001b[0m\u001b[0m\n\u001b[0;32m     16\u001b[0m \u001b[0mgrid_search\u001b[0m \u001b[1;33m=\u001b[0m \u001b[0mGridSearchCV\u001b[0m\u001b[1;33m(\u001b[0m\u001b[0mestimator\u001b[0m\u001b[1;33m=\u001b[0m\u001b[0mrf\u001b[0m\u001b[1;33m,\u001b[0m \u001b[0mparam_grid\u001b[0m\u001b[1;33m=\u001b[0m\u001b[0mparam_grid\u001b[0m\u001b[1;33m,\u001b[0m \u001b[0mcv\u001b[0m\u001b[1;33m=\u001b[0m\u001b[1;36m5\u001b[0m\u001b[1;33m,\u001b[0m \u001b[0mscoring\u001b[0m\u001b[1;33m=\u001b[0m\u001b[1;34m'neg_mean_absolute_error'\u001b[0m\u001b[1;33m,\u001b[0m \u001b[0mn_jobs\u001b[0m\u001b[1;33m=\u001b[0m\u001b[1;33m-\u001b[0m\u001b[1;36m1\u001b[0m\u001b[1;33m)\u001b[0m\u001b[1;33m\u001b[0m\u001b[0m\n\u001b[1;32m---> 17\u001b[1;33m \u001b[0mgrid_search\u001b[0m\u001b[1;33m.\u001b[0m\u001b[0mfit\u001b[0m\u001b[1;33m(\u001b[0m\u001b[0mX\u001b[0m\u001b[1;33m=\u001b[0m\u001b[0mdata_scaled\u001b[0m\u001b[1;33m,\u001b[0m \u001b[0my\u001b[0m\u001b[1;33m=\u001b[0m\u001b[0mdata\u001b[0m\u001b[1;33m[\u001b[0m\u001b[1;34m'price'\u001b[0m\u001b[1;33m]\u001b[0m\u001b[1;33m)\u001b[0m\u001b[1;33m\u001b[0m\u001b[0m\n\u001b[0m\u001b[0;32m     18\u001b[0m \u001b[1;33m\u001b[0m\u001b[0m\n\u001b[0;32m     19\u001b[0m \u001b[1;31m# Get the best parameters and the best score\u001b[0m\u001b[1;33m\u001b[0m\u001b[1;33m\u001b[0m\u001b[0m\n",
      "\u001b[1;31mNameError\u001b[0m: name 'data_scaled' is not defined"
     ]
    }
   ],
   "source": [
    "from sklearn.ensemble import RandomForestRegressor\n",
    "from sklearn.model_selection import GridSearchCV\n",
    "\n",
    "# Define the parameter grid for n_estimators\n",
    "param_grid = {\n",
    "    'n_estimators': [50, 100, 150, 200],\n",
    "    'max_depth': [None, 5, 10, 15, 20],\n",
    "    'min_samples_split': [2, 5, 10],\n",
    "    'min_samples_leaf': [1, 2, 4]\n",
    "}\n",
    "\n",
    "# Initialize the RandomForestRegressor\n",
    "rf = RandomForestRegressor(random_state=42)\n",
    "\n",
    "# Perform grid search with 5-fold cross-validation\n",
    "grid_search = GridSearchCV(estimator=rf, param_grid=param_grid, cv=5, scoring='neg_mean_absolute_error', n_jobs=-1)\n",
    "grid_search.fit(X=data_scaled, y=data['price'])\n",
    "\n",
    "# Get the best parameters and the best score\n",
    "best_params = grid_search.best_params_\n",
    "best_score = grid_search.best_score_\n",
    "\n",
    "best_params, best_score\n"
   ]
  },
  {
   "cell_type": "markdown",
   "metadata": {},
   "source": [
    "上述代码首先读取数据，然后进行训练集和测试集的划分。接着创建随机森林模型，并使用默认参数进行训练和预测。随后，尝试不同的参数组合进行调参，选择最佳参数组合。最后，使用最佳参数重新训练模型，并在测试集上进行评估。\n"
   ]
  },
  {
   "cell_type": "code",
   "execution_count": null,
   "metadata": {},
   "outputs": [],
   "source": []
  },
  {
   "cell_type": "code",
   "execution_count": null,
   "metadata": {},
   "outputs": [],
   "source": []
  },
  {
   "cell_type": "code",
   "execution_count": null,
   "metadata": {},
   "outputs": [],
   "source": []
  },
  {
   "cell_type": "code",
   "execution_count": 13,
   "metadata": {},
   "outputs": [
    {
     "data": {
      "text/plain": [
       "array([0.01867866, 0.01937046, 0.01932307, 0.01106538, 0.02023694])"
      ]
     },
     "execution_count": 13,
     "metadata": {},
     "output_type": "execute_result"
    }
   ],
   "source": [
    "from sklearn.ensemble import RandomForestRegressor\n",
    "\n",
    "# Initialize the Random Forest model\n",
    "rf_model = RandomForestRegressor(random_state=42)\n",
    "\n",
    "# Train the model using the training data\n",
    "rf_model.fit(X_train, y_train)\n",
    "\n",
    "# Predict on the test data\n",
    "y_pred = rf_model.predict(X_test)\n",
    "\n",
    "y_pred[:5]  # Displaying the first 5 predictions for a quick view\n"
   ]
  },
  {
   "cell_type": "code",
   "execution_count": null,
   "metadata": {},
   "outputs": [],
   "source": [
    "from sklearn.model_selection import GridSearchCV\n",
    "\n",
    "# Define the hyperparameters and their possible values\n",
    "param_grid = {\n",
    "    'n_estimators': [10, 50, 100, 200, 300, 400, 500],\n",
    "    'max_depth': [None, 10, 20, 30, 40, 50],\n",
    "    'min_samples_split': [2, 5, 10],\n",
    "    'min_samples_leaf': [1, 2, 4]\n",
    "}\n",
    "\n",
    "# Initialize the Grid SearchCV\n",
    "grid_search = GridSearchCV(RandomForestRegressor(random_state=42), param_grid, cv=5, scoring='neg_mean_absolute_error', n_jobs=-1)\n",
    "\n",
    "# Fit the model to the training data\n",
    "grid_search.fit(X_train, y_train)\n",
    "\n",
    "# Get the best parameters and the best score (MAPE)\n",
    "best_params = grid_search.best_params_\n",
    "best_score = -grid_search.best_score_\n",
    "\n",
    "best_params, best_score\n"
   ]
  },
  {
   "cell_type": "code",
   "execution_count": null,
   "metadata": {},
   "outputs": [],
   "source": []
  },
  {
   "cell_type": "markdown",
   "metadata": {},
   "source": [
    "随机森林"
   ]
  },
  {
   "cell_type": "markdown",
   "metadata": {},
   "source": [
    "建立模型"
   ]
  },
  {
   "cell_type": "markdown",
   "metadata": {},
   "source": [
    "4：1建立训练集和测试集"
   ]
  },
  {
   "cell_type": "code",
   "execution_count": 5,
   "metadata": {},
   "outputs": [
    {
     "data": {
      "text/html": [
       "<div>\n",
       "<style scoped>\n",
       "    .dataframe tbody tr th:only-of-type {\n",
       "        vertical-align: middle;\n",
       "    }\n",
       "\n",
       "    .dataframe tbody tr th {\n",
       "        vertical-align: top;\n",
       "    }\n",
       "\n",
       "    .dataframe thead th {\n",
       "        text-align: right;\n",
       "    }\n",
       "</style>\n",
       "<table border=\"1\" class=\"dataframe\">\n",
       "  <thead>\n",
       "    <tr style=\"text-align: right;\">\n",
       "      <th></th>\n",
       "      <th>address</th>\n",
       "      <th>price</th>\n",
       "      <th>unit-price</th>\n",
       "      <th>Number of bedrooms</th>\n",
       "      <th>Number of living rooms</th>\n",
       "      <th>area</th>\n",
       "      <th>floor</th>\n",
       "      <th>decoration_label</th>\n",
       "      <th>toward_label</th>\n",
       "    </tr>\n",
       "  </thead>\n",
       "  <tbody>\n",
       "    <tr>\n",
       "      <th>0</th>\n",
       "      <td>1</td>\n",
       "      <td>189.0</td>\n",
       "      <td>13217</td>\n",
       "      <td>4</td>\n",
       "      <td>2</td>\n",
       "      <td>143.00</td>\n",
       "      <td>2</td>\n",
       "      <td>0</td>\n",
       "      <td>1</td>\n",
       "    </tr>\n",
       "    <tr>\n",
       "      <th>1</th>\n",
       "      <td>1</td>\n",
       "      <td>62.8</td>\n",
       "      <td>7057</td>\n",
       "      <td>3</td>\n",
       "      <td>2</td>\n",
       "      <td>89.00</td>\n",
       "      <td>0</td>\n",
       "      <td>0</td>\n",
       "      <td>1</td>\n",
       "    </tr>\n",
       "    <tr>\n",
       "      <th>2</th>\n",
       "      <td>1</td>\n",
       "      <td>78.0</td>\n",
       "      <td>8827</td>\n",
       "      <td>3</td>\n",
       "      <td>2</td>\n",
       "      <td>88.37</td>\n",
       "      <td>2</td>\n",
       "      <td>0</td>\n",
       "      <td>1</td>\n",
       "    </tr>\n",
       "    <tr>\n",
       "      <th>3</th>\n",
       "      <td>1</td>\n",
       "      <td>150.0</td>\n",
       "      <td>12000</td>\n",
       "      <td>4</td>\n",
       "      <td>2</td>\n",
       "      <td>125.00</td>\n",
       "      <td>0</td>\n",
       "      <td>0</td>\n",
       "      <td>1</td>\n",
       "    </tr>\n",
       "    <tr>\n",
       "      <th>4</th>\n",
       "      <td>1</td>\n",
       "      <td>75.0</td>\n",
       "      <td>6411</td>\n",
       "      <td>3</td>\n",
       "      <td>2</td>\n",
       "      <td>117.00</td>\n",
       "      <td>1</td>\n",
       "      <td>0</td>\n",
       "      <td>0</td>\n",
       "    </tr>\n",
       "  </tbody>\n",
       "</table>\n",
       "</div>"
      ],
      "text/plain": [
       "   address  price  unit-price  Number of bedrooms  Number of living rooms  \\\n",
       "0        1  189.0       13217                   4                       2   \n",
       "1        1   62.8        7057                   3                       2   \n",
       "2        1   78.0        8827                   3                       2   \n",
       "3        1  150.0       12000                   4                       2   \n",
       "4        1   75.0        6411                   3                       2   \n",
       "\n",
       "     area  floor  decoration_label  toward_label  \n",
       "0  143.00      2                 0             1  \n",
       "1   89.00      0                 0             1  \n",
       "2   88.37      2                 0             1  \n",
       "3  125.00      0                 0             1  \n",
       "4  117.00      1                 0             0  "
      ]
     },
     "execution_count": 5,
     "metadata": {},
     "output_type": "execute_result"
    }
   ],
   "source": [
    "import pandas as pd\n",
    "\n",
    "# Load the data\n",
    "data = pd.read_csv('数据D.csv')\n",
    "\n",
    "# Display the first few rows of the data\n",
    "data.head()\n"
   ]
  },
  {
   "cell_type": "markdown",
   "metadata": {},
   "source": [
    "线性归一化"
   ]
  },
  {
   "cell_type": "code",
   "execution_count": 6,
   "metadata": {
    "scrolled": true
   },
   "outputs": [
    {
     "data": {
      "text/html": [
       "<div>\n",
       "<style scoped>\n",
       "    .dataframe tbody tr th:only-of-type {\n",
       "        vertical-align: middle;\n",
       "    }\n",
       "\n",
       "    .dataframe tbody tr th {\n",
       "        vertical-align: top;\n",
       "    }\n",
       "\n",
       "    .dataframe thead th {\n",
       "        text-align: right;\n",
       "    }\n",
       "</style>\n",
       "<table border=\"1\" class=\"dataframe\">\n",
       "  <thead>\n",
       "    <tr style=\"text-align: right;\">\n",
       "      <th></th>\n",
       "      <th>address</th>\n",
       "      <th>price</th>\n",
       "      <th>unit-price</th>\n",
       "      <th>Number of bedrooms</th>\n",
       "      <th>Number of living rooms</th>\n",
       "      <th>area</th>\n",
       "      <th>floor</th>\n",
       "      <th>decoration_label</th>\n",
       "      <th>toward_label</th>\n",
       "    </tr>\n",
       "  </thead>\n",
       "  <tbody>\n",
       "    <tr>\n",
       "      <th>0</th>\n",
       "      <td>0.25</td>\n",
       "      <td>0.029575</td>\n",
       "      <td>0.106680</td>\n",
       "      <td>0.272727</td>\n",
       "      <td>0.4</td>\n",
       "      <td>0.057573</td>\n",
       "      <td>1.0</td>\n",
       "      <td>0.0</td>\n",
       "      <td>1.0</td>\n",
       "    </tr>\n",
       "    <tr>\n",
       "      <th>1</th>\n",
       "      <td>0.25</td>\n",
       "      <td>0.007748</td>\n",
       "      <td>0.043200</td>\n",
       "      <td>0.181818</td>\n",
       "      <td>0.4</td>\n",
       "      <td>0.033658</td>\n",
       "      <td>0.0</td>\n",
       "      <td>0.0</td>\n",
       "      <td>1.0</td>\n",
       "    </tr>\n",
       "    <tr>\n",
       "      <th>2</th>\n",
       "      <td>0.25</td>\n",
       "      <td>0.010377</td>\n",
       "      <td>0.061440</td>\n",
       "      <td>0.181818</td>\n",
       "      <td>0.4</td>\n",
       "      <td>0.033379</td>\n",
       "      <td>1.0</td>\n",
       "      <td>0.0</td>\n",
       "      <td>1.0</td>\n",
       "    </tr>\n",
       "    <tr>\n",
       "      <th>3</th>\n",
       "      <td>0.25</td>\n",
       "      <td>0.022829</td>\n",
       "      <td>0.094138</td>\n",
       "      <td>0.272727</td>\n",
       "      <td>0.4</td>\n",
       "      <td>0.049601</td>\n",
       "      <td>0.0</td>\n",
       "      <td>0.0</td>\n",
       "      <td>1.0</td>\n",
       "    </tr>\n",
       "    <tr>\n",
       "      <th>4</th>\n",
       "      <td>0.25</td>\n",
       "      <td>0.009858</td>\n",
       "      <td>0.036542</td>\n",
       "      <td>0.181818</td>\n",
       "      <td>0.4</td>\n",
       "      <td>0.046058</td>\n",
       "      <td>0.5</td>\n",
       "      <td>0.0</td>\n",
       "      <td>0.0</td>\n",
       "    </tr>\n",
       "  </tbody>\n",
       "</table>\n",
       "</div>"
      ],
      "text/plain": [
       "   address     price  unit-price  Number of bedrooms  Number of living rooms  \\\n",
       "0     0.25  0.029575    0.106680            0.272727                     0.4   \n",
       "1     0.25  0.007748    0.043200            0.181818                     0.4   \n",
       "2     0.25  0.010377    0.061440            0.181818                     0.4   \n",
       "3     0.25  0.022829    0.094138            0.272727                     0.4   \n",
       "4     0.25  0.009858    0.036542            0.181818                     0.4   \n",
       "\n",
       "       area  floor  decoration_label  toward_label  \n",
       "0  0.057573    1.0               0.0           1.0  \n",
       "1  0.033658    0.0               0.0           1.0  \n",
       "2  0.033379    1.0               0.0           1.0  \n",
       "3  0.049601    0.0               0.0           1.0  \n",
       "4  0.046058    0.5               0.0           0.0  "
      ]
     },
     "execution_count": 6,
     "metadata": {},
     "output_type": "execute_result"
    }
   ],
   "source": [
    "# Linear normalization function\n",
    "def linear_normalization(series):\n",
    "    return (series - series.min()) / (series.max() - series.min())\n",
    "\n",
    "# Apply linear normalization to all numeric columns\n",
    "normalized_data = data.select_dtypes(include=['int64', 'float64']).apply(linear_normalization)\n",
    "\n",
    "# Display the first few rows of the normalized data\n",
    "normalized_data.head()\n"
   ]
  },
  {
   "cell_type": "code",
   "execution_count": 7,
   "metadata": {},
   "outputs": [
    {
     "data": {
      "text/plain": [
       "((43793, 9), (10949, 9))"
      ]
     },
     "execution_count": 7,
     "metadata": {},
     "output_type": "execute_result"
    }
   ],
   "source": [
    "from sklearn.model_selection import train_test_split\n",
    "\n",
    "# Split the data into training and testing sets with a 4:1 ratio\n",
    "train_data, test_data = train_test_split(normalized_data, test_size=0.2, random_state=42)\n",
    "\n",
    "# Display the shape of the training and testing sets\n",
    "train_data.shape, test_data.shape\n"
   ]
  },
  {
   "cell_type": "code",
   "execution_count": 8,
   "metadata": {},
   "outputs": [
    {
     "data": {
      "text/plain": [
       "3.0422929876017397e-05"
      ]
     },
     "execution_count": 8,
     "metadata": {},
     "output_type": "execute_result"
    }
   ],
   "source": [
    "from sklearn.ensemble import RandomForestRegressor\n",
    "from sklearn.metrics import mean_squared_error\n",
    "\n",
    "# Split the data into features and target\n",
    "X_train = train_data.drop('price', axis=1)\n",
    "y_train = train_data['price']\n",
    "X_test = test_data.drop('price', axis=1)\n",
    "y_test = test_data['price']\n",
    "\n",
    "# Initialize the Random Forest Regressor\n",
    "rf = RandomForestRegressor(n_estimators=100, random_state=42)\n",
    "\n",
    "# Train the model\n",
    "rf.fit(X_train, y_train)\n",
    "\n",
    "# Predict on the test set\n",
    "y_pred = rf.predict(X_test)\n",
    "\n",
    "# Calculate the mean squared error\n",
    "mse = mean_squared_error(y_test, y_pred)\n",
    "mse\n"
   ]
  },
  {
   "cell_type": "code",
   "execution_count": 10,
   "metadata": {},
   "outputs": [
    {
     "data": {
      "text/plain": [
       "(0.30521205156738224, 0.9567695436757098)"
      ]
     },
     "execution_count": 10,
     "metadata": {},
     "output_type": "execute_result"
    }
   ],
   "source": [
    "# Calculate MAPE\n",
    "mape = 100 * (abs(y_test - y_pred) / y_test).mean()\n",
    "\n",
    "# Calculate R^2 using the formula\n",
    "r_squared = 1 - (mean_squared_error(y_test, y_pred) / ((y_test - y_test.mean())**2).mean())\n",
    "\n",
    "mape, r_squared\n"
   ]
  },
  {
   "cell_type": "code",
   "execution_count": 11,
   "metadata": {},
   "outputs": [
    {
     "data": {
      "image/png": "[encoded data removed]",
      "text/plain": [
       "<Figure size 1000x600 with 1 Axes>"
      ]
     },
     "metadata": {},
     "output_type": "display_data"
    }
   ],
   "source": [
    "import matplotlib.pyplot as plt\n",
    "\n",
    "# Plotting the predicted vs actual values\n",
    "plt.figure(figsize=(10, 6))\n",
    "plt.scatter(y_test, y_pred, c='blue', alpha=0.5)\n",
    "plt.xlabel('Actual Prices')\n",
    "plt.ylabel('Predicted Prices')\n",
    "plt.title('Actual vs Predicted Prices (Random Forest)')\n",
    "plt.plot([y_test.min(), y_test.max()], [y_test.min(), y_test.max()], c='red', lw=2)\n",
    "plt.show()\n"
   ]
  },
  {
   "cell_type": "markdown",
   "metadata": {},
   "source": [
    "n_estimators调参,并绘制MAPE与n_estimators取值范围的关系图"
   ]
  },
  {
   "cell_type": "code",
   "execution_count": 22,
   "metadata": {
    "scrolled": true
   },
   "outputs": [
    {
     "data": {
      "image/png": "[encoded data removed]",
      "text/plain": [
       "<Figure size 720x432 with 1 Axes>"
      ]
     },
     "metadata": {
      "needs_background": "light"
     },
     "output_type": "display_data"
    }
   ],
   "source": [
    "import numpy as np\n",
    "import matplotlib.pyplot as plt\n",
    "from sklearn.ensemble import RandomForestRegressor\n",
    "from sklearn.metrics import mean_absolute_error\n",
    "\n",
    "# 假设 X_train, y_train, X_test, y_test 已经被正确加载和准备\n",
    "\n",
    "# 定义 n_estimators 值的范围\n",
    "n_estimators_values = np.arange(10, 210, 10)\n",
    "\n",
    "# 初始化一个列表来存储 MAPE 值\n",
    "mape_values = []\n",
    "\n",
    "# 遍历不同的 n_estimators 值并计算 MAPE\n",
    "for n in n_estimators_values:\n",
    "    # 初始化并训练模型\n",
    "    rf = RandomForestRegressor(n_estimators=n, random_state=42)\n",
    "    rf.fit(X_train, y_train)\n",
    "    \n",
    "    # 在测试集上进行预测\n",
    "    y_pred = rf.predict(X_test)\n",
    "    \n",
    "    # 计算 MAPE\n",
    "    mape = mean_absolute_error(y_test, y_pred) / np.mean(y_test) * 100\n",
    "    mape_values.append(mape)\n",
    "\n",
    "# 绘制 MAPE 与 n_estimators 的关系图\n",
    "plt.figure(figsize=(10, 6))\n",
    "plt.plot(n_estimators_values, mape_values, marker='o')\n",
    "plt.title('MAPE vs. n_estimators')\n",
    "plt.xlabel('n_estimators')\n",
    "plt.ylabel('MAPE (%)')\n",
    "plt.grid(True)\n",
    "plt.show()\n"
   ]
  },
  {
   "cell_type": "markdown",
   "metadata": {},
   "source": [
    "n_estimators的调参结果可以看出，当n_estimators值越大时MAPE越小，当取值在150道200之间时MAPE下降速度已经减缓，为精确n_estimators的取值，我们缩小范围，在[150，160，170，180，190，200]内使得5折交叉验证中MAPE最小的参数值，"
   ]
  },
  {
   "cell_type": "code",
   "execution_count": 26,
   "metadata": {},
   "outputs": [
    {
     "data": {
      "text/plain": [
       "(200, 0.3161023964520301)"
      ]
     },
     "execution_count": 26,
     "metadata": {},
     "output_type": "execute_result"
    }
   ],
   "source": [
    "# Correcting the MAPE calculation to handle cases where the true value is zero\n",
    "\n",
    "# List to store cross-validated MAPE scores for each value of n_estimators\n",
    "cross_validated_mape_scores = []\n",
    "\n",
    "# 5-fold cross-validation loop\n",
    "for n in n_estimators_values:\n",
    "    # Initialize the model\n",
    "    rf = RandomForestRegressor(n_estimators=n, random_state=42)\n",
    "    \n",
    "    # Perform cross-validation and store the predictions\n",
    "    y_pred_cv = cross_val_predict(rf, X_train, y_train, cv=5)\n",
    "    \n",
    "    # Calculate MAPE, avoiding division by zero\n",
    "    mape = np.mean(np.where(y_train == 0, 0, np.abs((y_train - y_pred_cv) / y_train))) * 100\n",
    "    \n",
    "    # Append the MAPE score to the list\n",
    "    cross_validated_mape_scores.append(mape)\n",
    "\n",
    "# Find the index of the n_estimators value with the minimum MAPE\n",
    "best_n_estimators_index = np.argmin(cross_validated_mape_scores)\n",
    "best_n_estimators = n_estimators_values[best_n_estimators_index]\n",
    "\n",
    "best_n_estimators, cross_validated_mape_scores[best_n_estimators_index]\n"
   ]
  },
  {
   "cell_type": "markdown",
   "metadata": {},
   "source": [
    "当 n_estimators 设置为 200 时，交叉验证的平均绝对百分比误差 (MAPE) 最小，其值为约 0.316%。"
   ]
  },
  {
   "cell_type": "markdown",
   "metadata": {},
   "source": [
    "max_depth、min_samples_leaf分别调参,并分别绘制MAPE与max_depth取值范围的关系图以及MAPE与min_samples_leaf取值范围的关系图"
   ]
  },
  {
   "cell_type": "code",
   "execution_count": 27,
   "metadata": {},
   "outputs": [
    {
     "data": {
      "image/png": "[encoded data removed]",
      "text/plain": [
       "<Figure size 720x432 with 1 Axes>"
      ]
     },
     "metadata": {
      "needs_background": "light"
     },
     "output_type": "display_data"
    }
   ],
   "source": [
    "# Define a list of max_depth values\n",
    "max_depth_values = np.arange(10, 110, 10)\n",
    "\n",
    "# Initialize a list to store MAPE values\n",
    "mape_values_max_depth = []\n",
    "\n",
    "# 5-fold cross-validation loop for each max_depth value\n",
    "for d in max_depth_values:\n",
    "    # Initialize the model\n",
    "    rf = RandomForestRegressor(n_estimators=200, max_depth=d, random_state=42)\n",
    "    \n",
    "    # Perform cross-validation and store the predictions\n",
    "    y_pred_cv = cross_val_predict(rf, X_train, y_train, cv=5)\n",
    "    \n",
    "    # Calculate MAPE, avoiding division by zero\n",
    "    mape = np.mean(np.where(y_train == 0, 0, np.abs((y_train - y_pred_cv) / y_train))) * 100\n",
    "    \n",
    "    # Append the MAPE score to the list\n",
    "    mape_values_max_depth.append(mape)\n",
    "\n",
    "# Plot MAPE vs. max_depth\n",
    "plt.figure(figsize=(10, 6))\n",
    "plt.plot(max_depth_values, mape_values_max_depth, marker='o')\n",
    "plt.title('MAPE vs. max_depth')\n",
    "plt.xlabel('max_depth')\n",
    "plt.ylabel('MAPE (%)')\n",
    "plt.grid(True)\n",
    "plt.show()\n"
   ]
  },
  {
   "cell_type": "code",
   "execution_count": 28,
   "metadata": {},
   "outputs": [
    {
     "data": {
      "image/png": "[encoded data removed]",
      "text/plain": [
       "<Figure size 720x432 with 1 Axes>"
      ]
     },
     "metadata": {
      "needs_background": "light"
     },
     "output_type": "display_data"
    }
   ],
   "source": [
    "# Define a list of min_samples_leaf values\n",
    "min_samples_leaf_values = np.arange(1, 11, 1)\n",
    "\n",
    "# Initialize a list to store MAPE values\n",
    "mape_values_min_samples_leaf = []\n",
    "\n",
    "# 5-fold cross-validation loop for each min_samples_leaf value\n",
    "for l in min_samples_leaf_values:\n",
    "    # Initialize the model\n",
    "    rf = RandomForestRegressor(n_estimators=200, min_samples_leaf=l, random_state=42)\n",
    "    \n",
    "    # Perform cross-validation and store the predictions\n",
    "    y_pred_cv = cross_val_predict(rf, X_train, y_train, cv=5)\n",
    "    \n",
    "    # Calculate MAPE, avoiding division by zero\n",
    "    mape = np.mean(np.where(y_train == 0, 0, np.abs((y_train - y_pred_cv) / y_train))) * 100\n",
    "    \n",
    "    # Append the MAPE score to the list\n",
    "    mape_values_min_samples_leaf.append(mape)\n",
    "\n",
    "# Plot MAPE vs. min_samples_leaf\n",
    "plt.figure(figsize=(10, 6))\n",
    "plt.plot(min_samples_leaf_values, mape_values_min_samples_leaf, marker='o')\n",
    "plt.title('MAPE vs. min_samples_leaf')\n",
    "plt.xlabel('min_samples_leaf')\n",
    "plt.ylabel('MAPE (%)')\n",
    "plt.grid(True)\n",
    "plt.show()\n"
   ]
  },
  {
   "cell_type": "markdown",
   "metadata": {},
   "source": [
    "当max_depth取到20以上时验证集的MAPE值变化不大，说明模型的性能提升不在显著，且当max_depth越大模型会越复杂，所以将max_depth的组合参数设置为[20,21,22,23,24,25]。对参数min_samples_leaf明显在大于1时MAPE值不断爬升，说明模型性能随着min_samples_leaf值的提升不断下降，所以在该参数值为[1,2]下搜索最优组合。\n"
   ]
  },
  {
   "cell_type": "markdown",
   "metadata": {},
   "source": [
    "max_depth= 22, min_samples_leaf= 1"
   ]
  },
  {
   "cell_type": "markdown",
   "metadata": {},
   "source": [
    "在max_feature两种情况下进行搜索最优参数解"
   ]
  },
  {
   "cell_type": "code",
   "execution_count": 30,
   "metadata": {},
   "outputs": [
    {
     "data": {
      "text/plain": [
       "([{'max_depth': 22, 'min_samples_leaf': 1},\n",
       "  {'max_depth': 20, 'min_samples_leaf': 1}],\n",
       " [72340401.4321191, 265882547.49167055])"
      ]
     },
     "execution_count": 30,
     "metadata": {},
     "output_type": "execute_result"
    }
   ],
   "source": [
    "# Update the parameter grid with the specified ranges\n",
    "param_grid = {\n",
    "    'max_depth': [20, 21, 22, 23, 24, 25],\n",
    "    'min_samples_leaf': [1, 2]\n",
    "}\n",
    "\n",
    "# Initialize lists to store the best parameters and MAPE scores for each strategy\n",
    "best_params_updated = []\n",
    "best_mape_scores_updated = []\n",
    "xzc  # Grid search for each max_features strategy\n",
    "for strategy in max_features_strategies:\n",
    "    # Initialize the Random Forest Regressor\n",
    "    rf = RandomForestRegressor(n_estimators=200, max_features=strategy, random_state=42)\n",
    "    \n",
    "    # Perform grid search with 5-fold cross-validation\n",
    "    grid_search = GridSearchCV(rf, param_grid, scoring='neg_mean_absolute_percentage_error', cv=5, n_jobs=-1)\n",
    "    grid_search.fit(X_train, y_train)\n",
    "    \n",
    "    # Store the best parameters and MAPE score\n",
    "    best_params_updated.append(grid_search.best_params_)\n",
    "    best_mape_scores_updated.append(-grid_search.best_score_)\n",
    "\n",
    "best_params_updated, best_mape_scores_updated\n"
   ]
  },
  {
   "cell_type": "markdown",
   "metadata": {},
   "source": [
    "最终求出的最优参数组合为([{'max_depth': 22, 'min_samples_leaf': 1},  {'max_depth': 20, 'min_samples_leaf': 1}], [72340401.4321191, 265882547.49167055])\n"
   ]
  },
  {
   "cell_type": "code",
   "execution_count": 33,
   "metadata": {},
   "outputs": [
    {
     "data": {
      "text/plain": [
       "(0.30328644665175086, 2.0279389543812, 0.9556344507325963, 0.9208405433217237)"
      ]
     },
     "execution_count": 33,
     "metadata": {},
     "output_type": "execute_result"
    }
   ],
   "source": [
    "# Extracting the best parameters for each strategy\n",
    "best_params_auto = best_params_updated[0]\n",
    "best_params_sqrt = best_params_updated[1]\n",
    "\n",
    "# Initialize the Random Forest Regressor with the best parameters for each strategy\n",
    "rf_auto = RandomForestRegressor(n_estimators=200, max_features=\"auto\", max_depth=best_params_auto['max_depth'], \n",
    "                                min_samples_leaf=best_params_auto['min_samples_leaf'], random_state=42)\n",
    "rf_sqrt = RandomForestRegressor(n_estimators=200, max_features=\"sqrt\", max_depth=best_params_sqrt['max_depth'], \n",
    "                                min_samples_leaf=best_params_sqrt['min_samples_leaf'], random_state=42)\n",
    "\n",
    "# Train the models with the best parameters\n",
    "rf_auto.fit(X_train, y_train)\n",
    "rf_sqrt.fit(X_train, y_train)\n",
    "\n",
    "# Predict on the validation and test sets\n",
    "y_pred_val_auto = rf_auto.predict(X_test)\n",
    "y_pred_val_sqrt = rf_sqrt.predict(X_test)\n",
    "\n",
    "# Calculate MAPE for the validation set\n",
    "mape_val_auto = np.mean(np.abs((y_test - y_pred_val_auto) / y_test)) * 100\n",
    "mape_val_sqrt = np.mean(np.abs((y_test - y_pred_val_sqrt) / y_test)) * 100\n",
    "\n",
    "# Calculate the coefficient of determination (R^2) for the validation set\n",
    "r2_val_auto = rf_auto.score(X_test, y_test)\n",
    "r2_val_sqrt = rf_sqrt.score(X_test, y_test)\n",
    "\n",
    "mape_val_auto, mape_val_sqrt, r2_val_auto, r2_val_sqrt\n"
   ]
  },
  {
   "cell_type": "code",
   "execution_count": 1,
   "metadata": {},
   "outputs": [
    {
     "name": "stdout",
     "output_type": "stream",
     "text": [
      "0.43375604746791996 1.8065192721693049\n"
     ]
    }
   ],
   "source": [
    "a=0.30328644665175086*0.8+0.9556344507325963*0.2 \n",
    "b=2.0279389543812*0.8+0.9208405433217237*0.2\n",
    "print(a,b)"
   ]
  },
  {
   "cell_type": "markdown",
   "metadata": {},
   "source": [
    "在比较两种策略时，我们通常会考虑两个因素：MAPE 值和决定系数 (R²)。\n",
    "MAPE 值：这个指标衡量的是模型预测的误差。MAPE 值越低，表示模型的预测越准确。在这里，max_features=\"auto\" 的策略具有更低的 MAPE 值（约 0.303%），而 max_features=\"sqrt\" 的策略的 MAPE 值为约 2.028%。\n",
    "决定系数 (R²)：这个指标衡量的是模型对数据的拟合程度。R² 越接近 1，表示模型对数据的拟合越好。在这里，max_features=\"auto\" 的策略也具有更高的 R² 值（约 0.956），而 max_features=\"sqrt\" 的策略的 R² 值为约 0.921。\n",
    "综合考虑这两个因素，我们可以得出结论，max_features=\"auto\" 的策略在这两个方面都表现得更好，因此可以认为它是更优的策略。\n"
   ]
  },
  {
   "cell_type": "markdown",
   "metadata": {},
   "source": [
    "XGBoost模型"
   ]
  },
  {
   "cell_type": "markdown",
   "metadata": {},
   "source": [
    "建立模型"
   ]
  },
  {
   "cell_type": "code",
   "execution_count": 34,
   "metadata": {},
   "outputs": [
    {
     "data": {
      "text/plain": [
       "(1.1494892179678187, 0.9642548018167725)"
      ]
     },
     "execution_count": 34,
     "metadata": {},
     "output_type": "execute_result"
    }
   ],
   "source": [
    "# Importing the XGBoost library\n",
    "try:\n",
    "    import xgboost as xgb\n",
    "except ImportError:\n",
    "    # Installing XGBoost if not available\n",
    "    !pip install xgboost\n",
    "\n",
    "# Initialize the XGBoost Regressor\n",
    "xgb_reg = xgb.XGBRegressor(n_estimators=100, random_state=42)\n",
    "\n",
    "# Train the model\n",
    "xgb_reg.fit(X_train, y_train)\n",
    "\n",
    "# Predict on the test set\n",
    "y_pred_xgb = xgb_reg.predict(X_test)\n",
    "\n",
    "# Calculate MAPE for the test set\n",
    "mape_test_xgb = np.mean(np.abs((y_test - y_pred_xgb) / y_test)) * 100\n",
    "\n",
    "# Calculate the coefficient of determination (R^2) for the test set\n",
    "r2_test_xgb = xgb_reg.score(X_test, y_test)\n",
    "\n",
    "mape_test_xgb, r2_test_xgb\n"
   ]
  },
  {
   "cell_type": "markdown",
   "metadata": {},
   "source": [
    "测试集的 MAPE 值为约 1.149%。\n",
    "决定系数 (R²) 为约 0.964。\n",
    "MAPE 值较低意味着模型预测与真实值之间的误差较小，而决定系数 (R²) 接近 1 表示模型对数据的拟合程度很高。\n",
    "总的来说，XGBoost 模型在这两个指标上都表现良好，可以认为是一个有效的预测模型。"
   ]
  },
  {
   "cell_type": "markdown",
   "metadata": {},
   "source": [
    "对n_estimators进行调参，绘制MAPE与n_estimators值的关系图，寻找最优参数值"
   ]
  },
  {
   "cell_type": "code",
   "execution_count": 46,
   "metadata": {},
   "outputs": [
    {
     "ename": "NameError",
     "evalue": "name 'data_restored' is not defined",
     "output_type": "error",
     "traceback": [
      "\u001b[1;31m---------------------------------------------------------------------------\u001b[0m",
      "\u001b[1;31mNameError\u001b[0m                                 Traceback (most recent call last)",
      "\u001b[1;32m<ipython-input-46-cbac65ffdfee>\u001b[0m in \u001b[0;36m<module>\u001b[1;34m()\u001b[0m\n\u001b[0;32m      2\u001b[0m \u001b[1;33m\u001b[0m\u001b[0m\n\u001b[0;32m      3\u001b[0m \u001b[1;31m# Randomly split the data into training and testing sets with a 4:1 ratio\u001b[0m\u001b[1;33m\u001b[0m\u001b[1;33m\u001b[0m\u001b[0m\n\u001b[1;32m----> 4\u001b[1;33m \u001b[0mtrain_data\u001b[0m\u001b[1;33m,\u001b[0m \u001b[0mtest_data\u001b[0m \u001b[1;33m=\u001b[0m \u001b[0mtrain_test_split\u001b[0m\u001b[1;33m(\u001b[0m\u001b[0mdata_restored\u001b[0m\u001b[1;33m,\u001b[0m \u001b[0mtest_size\u001b[0m\u001b[1;33m=\u001b[0m\u001b[1;36m0.2\u001b[0m\u001b[1;33m,\u001b[0m \u001b[0mrandom_state\u001b[0m\u001b[1;33m=\u001b[0m\u001b[1;36m42\u001b[0m\u001b[1;33m)\u001b[0m\u001b[1;33m\u001b[0m\u001b[0m\n\u001b[0m\u001b[0;32m      5\u001b[0m \u001b[1;33m\u001b[0m\u001b[0m\n\u001b[0;32m      6\u001b[0m \u001b[1;31m# Display the shape of the training and testing sets\u001b[0m\u001b[1;33m\u001b[0m\u001b[1;33m\u001b[0m\u001b[0m\n",
      "\u001b[1;31mNameError\u001b[0m: name 'data_restored' is not defined"
     ]
    }
   ],
   "source": [
    "from sklearn.model_selection import train_test_split\n",
    "\n",
    "# Randomly split the data into training and testing sets with a 4:1 ratio\n",
    "train_data, test_data = train_test_split(data_restored, test_size=0.2, random_state=42)\n",
    "\n",
    "# Display the shape of the training and testing sets\n",
    "train_data.shape, test_data.shape\n"
   ]
  },
  {
   "cell_type": "code",
   "execution_count": 45,
   "metadata": {},
   "outputs": [
    {
     "data": {
      "image/png": "[encoded data removed]",
      "text/plain": [
       "<Figure size 720x432 with 1 Axes>"
      ]
     },
     "metadata": {
      "needs_background": "light"
     },
     "output_type": "display_data"
    }
   ],
   "source": [
    "import numpy as np\n",
    "import matplotlib.pyplot as plt\n",
    "from sklearn.model_selection import cross_val_predict\n",
    "\n",
    "# 假设 X_train, y_train, X_test, y_test 已经被正确加载和准备\n",
    "\n",
    "# 定义 n_estimators 值的范围\n",
    "n_estimators_values = np.arange(10, 210, 10)\n",
    "\n",
    "# 初始化一个列表来存储 MAPE 值\n",
    "mape_values = []\n",
    "\n",
    "# 5-折交叉验证循环\n",
    "for n in n_estimators_values:\n",
    "    # 初始化并训练模型\n",
    "    xgb_reg = xgb.XGBRegressor(n_estimators=n, random_state=42)\n",
    "    \n",
    "    # 在训练集上进行交叉验证并存储预测\n",
    "    y_pred_cv = cross_val_predict(xgb_reg, X_train, y_train, cv=5)\n",
    "    \n",
    "    # 计算 MAPE\n",
    "    mape = np.mean(np.abs((y_train - y_pred_cv) / y_train)) * 100\n",
    "    \n",
    "    # 将 MAPE 分数添加到列表中\n",
    "    mape_values.append(mape)\n",
    "\n",
    "# 绘制 MAPE 与 n_estimators 的关系图\n",
    "plt.figure(figsize=(10, 6))\n",
    "plt.plot(n_estimators_values, mape_values, marker='o')\n",
    "plt.title('MAPE vs. n_estimators')\n",
    "plt.xlabel('n_estimators')\n",
    "plt.ylabel('MAPE (%)')\n",
    "plt.grid(True)\n",
    "plt.show()\n"
   ]
  },
  {
   "cell_type": "code",
   "execution_count": null,
   "metadata": {},
   "outputs": [],
   "source": []
  },
  {
   "cell_type": "code",
   "execution_count": null,
   "metadata": {},
   "outputs": [],
   "source": []
  }
 ],
 "metadata": {
  "kernelspec": {
   "display_name": "Python 3 (ipykernel)",
   "language": "python",
   "name": "python3"
  },
  "language_info": {
   "codemirror_mode": {
    "name": "ipython",
    "version": 3
   },
   "file_extension": ".py",
   "mimetype": "text/x-python",
   "name": "python",
   "nbconvert_exporter": "python",
   "pygments_lexer": "ipython3",
   "version": "3.11.5"
  }
 },
 "nbformat": 4,
 "nbformat_minor": 2
}
